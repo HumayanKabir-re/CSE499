{
 "cells": [
  {
   "cell_type": "code",
   "execution_count": 1,
   "id": "2ed1ccad",
   "metadata": {},
   "outputs": [],
   "source": [
    "import os"
   ]
  },
  {
   "cell_type": "code",
   "execution_count": 2,
   "id": "df9f5d34",
   "metadata": {},
   "outputs": [],
   "source": [
    "\n",
    "\n",
    "_src = r\"D:\\\\zzStudies\\\\CSE499\\\\Bangla Dataset v0.1\\\\train\\\\ঁ\"\n",
    "_ext = \".jpeg\"\n",
    "\n"
   ]
  },
  {
   "cell_type": "code",
   "execution_count": 3,
   "id": "8135c29a",
   "metadata": {},
   "outputs": [],
   "source": [
    "for i,filename in enumerate(os.listdir(_src)):\n",
    "    if filename.endswith(_ext):\n",
    "        os.rename(filename, _src+'ঁ' + str(i)+_ext)\n"
   ]
  },
  {
   "cell_type": "code",
   "execution_count": 4,
   "id": "989428b5",
   "metadata": {},
   "outputs": [],
   "source": [
    "##for /d %%a in (\"D:\\zzStudies\\CSE499\\Bangla Dataset v0.1\\train\\*\") do for %%b in (\"%%~fa\\*\") do ren \"%%~fb\" \"%%~nxa%%~xb\""
   ]
  },
  {
   "cell_type": "code",
   "execution_count": 5,
   "id": "fa5aae2d",
   "metadata": {},
   "outputs": [],
   "source": [
    "##for /d %a in (\"D:\\zzStudies\\CSE499\\Bangla Dataset v0.1\\train\\\") do @for %b in (%a\\D:\\zzStudies\\CSE499\\Bangla Dataset v0.1\\train\\) do @ren %a\\%b %a%~xb"
   ]
  }
 ],
 "metadata": {
  "kernelspec": {
   "display_name": "Python 3",
   "language": "python",
   "name": "python3"
  },
  "language_info": {
   "codemirror_mode": {
    "name": "ipython",
    "version": 3
   },
   "file_extension": ".py",
   "mimetype": "text/x-python",
   "name": "python",
   "nbconvert_exporter": "python",
   "pygments_lexer": "ipython3",
   "version": "3.8.8"
  }
 },
 "nbformat": 4,
 "nbformat_minor": 5
}
