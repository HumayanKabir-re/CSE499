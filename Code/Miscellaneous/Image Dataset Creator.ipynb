{
 "cells": [
  {
   "cell_type": "code",
   "execution_count": null,
   "id": "abe77323",
   "metadata": {
    "scrolled": false
   },
   "outputs": [],
   "source": [
    "import cv2\n",
    "import os\n",
    "#Point the directory to a folder eith only videos nothing else.\n",
    "parent_dir= \"C:/Users/Lenovo/Documents/Python Scripts/Videos\"\n",
    "\n",
    "dirArr = os.listdir(parent_dir)\n",
    "dirArr"
   ]
  },
  {
   "cell_type": "code",
   "execution_count": null,
   "id": "e0833b64",
   "metadata": {},
   "outputs": [],
   "source": [
    "for i in dirArr:\n",
    "    num_frames = 0\n",
    "    count = 0\n",
    "\n",
    "    vidcap = cv2.VideoCapture(i)\n",
    "    success,image = vidcap.read()\n",
    "    \n",
    "    base = i\n",
    "    image_name = os.path.splitext(base)[0]\n",
    "    print(image_name)\n",
    "    \n",
    "    directory= image_name\n",
    "    path = os.path.join(parent_dir, directory)\n",
    "    os.mkdir(path)\n",
    "    \n",
    "    #Changing main working directory python\n",
    "    os.chdir(path)\n",
    "    \n",
    "    fps = vidcap.get(cv2.CAP_PROP_FPS)\n",
    "    fps = round(fps)\n",
    "\n",
    "    print(\"Frames per second using video.get(cv2.CAP_PROP_FPS) : {0}\".format(fps))\n",
    "\n",
    "    while success:\n",
    "        num_frames += 1\n",
    "        success,image = vidcap.read()\n",
    "        print('Read a new frame: ', success)\n",
    "\n",
    "        if num_frames%2 == 0:   #Saving every even numbered frame \n",
    "            count += 1\n",
    "            cv2.imwrite(\"%s%d.jpg\"% (image_name, count), image)\n",
    "\n",
    "        #if num_frames == fps*10:   #breaking the video after 10s\n",
    "         #   break\n",
    "    os.chdir(parent_dir)\n",
    "    "
   ]
  },
  {
   "cell_type": "code",
   "execution_count": null,
   "id": "e1a3d5a3",
   "metadata": {},
   "outputs": [],
   "source": []
  },
  {
   "cell_type": "code",
   "execution_count": null,
   "id": "7ca61e60",
   "metadata": {},
   "outputs": [],
   "source": []
  }
 ],
 "metadata": {
  "kernelspec": {
   "display_name": "Python 3",
   "language": "python",
   "name": "python3"
  },
  "language_info": {
   "codemirror_mode": {
    "name": "ipython",
    "version": 3
   },
   "file_extension": ".py",
   "mimetype": "text/x-python",
   "name": "python",
   "nbconvert_exporter": "python",
   "pygments_lexer": "ipython3",
   "version": "3.8.8"
  }
 },
 "nbformat": 4,
 "nbformat_minor": 5
}
