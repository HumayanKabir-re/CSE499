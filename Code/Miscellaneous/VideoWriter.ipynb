{
 "cells": [
  {
   "cell_type": "code",
   "execution_count": 1,
   "id": "4d9e4c32",
   "metadata": {},
   "outputs": [],
   "source": [
    "import cv2\n",
    "import os\n",
    "import time\n",
    "import uuid\n",
    "import keyboard\n",
    "\n",
    "#Write you name here\n",
    "user = 'R'\n",
    "\n",
    "#Press X to stop recording\n",
    "#Press R to start next recording"
   ]
  },
  {
   "cell_type": "code",
   "execution_count": 2,
   "id": "7f55a308",
   "metadata": {},
   "outputs": [],
   "source": [
    "Image_path = 'username/dataset/'"
   ]
  },
  {
   "cell_type": "code",
   "execution_count": 3,
   "id": "20ef62fc",
   "metadata": {},
   "outputs": [],
   "source": [
    "labels = ['nothing','অ','আ','ই','উ','ঋ','এ','ঐ','ও','ঔ','ক','খ','গ','ঘ','ঙ','চ','ছ','জ','ঝ','ঞ','ট','ঠ','ড','ঢ','ণ','ত','থ','দ','ধ','প','ফ','ব','ভ','ম','য','র','ল','শ/ষ/স','হ','ং','ঃ','ঁ']"
   ]
  },
  {
   "cell_type": "code",
   "execution_count": 4,
   "id": "d13ba776",
   "metadata": {},
   "outputs": [],
   "source": [
    "flag = True\n",
    "my_res = '1080p'\n",
    "\n",
    "# Set resolution for the video capture\n",
    "# Function adapted from https://kirr.co/0l6qmh\n",
    "def change_res(cap, width, height):\n",
    "    cap.set(3, width)\n",
    "    cap.set(4, height)\n",
    "\n",
    "# Standard Video Dimensions Sizes\n",
    "STD_DIMENSIONS =  {\n",
    "    \"480p\": (640, 480),\n",
    "    \"720p\": (1280, 720),\n",
    "    \"1080p\": (1920, 1080),\n",
    "    \"4k\": (3840, 2160),\n",
    "}\n",
    "\n",
    "def get_dims(cap, res='1080p'):\n",
    "    width, height = STD_DIMENSIONS[\"480p\"]\n",
    "    if res in STD_DIMENSIONS:\n",
    "        width,height = STD_DIMENSIONS[res]\n",
    "    ## change the current caputre device\n",
    "    ## to the resulting resolution\n",
    "    change_res(cap, width, height)\n",
    "    return width, height\n",
    "\n"
   ]
  },
  {
   "cell_type": "code",
   "execution_count": 5,
   "id": "64461951",
   "metadata": {},
   "outputs": [],
   "source": [
    "# Using cv2.rectangle() method\n",
    "# Draw a rectangle with blue line borders of thickness of 2 px\n",
    "#image = cv2.rectangle(image, start_point, end_point, color, thickness)\n",
    "\n",
    "# Start coordinate, here (ROI_left, ROI_top)\n",
    "# represents the top left corner of rectangle\n",
    "\n",
    "# Ending coordinate, here (ROI-right, ROI_bottom)\n",
    "# represents the bottom right corner of rectangle\n",
    "\n",
    "ROI_left = 350\n",
    "ROI_top = 100\n",
    "\n",
    "ROI_right = 150\n",
    "ROI_bottom = 300\n",
    "\n"
   ]
  },
  {
   "cell_type": "code",
   "execution_count": 6,
   "id": "ef35b813",
   "metadata": {},
   "outputs": [],
   "source": [
    "cap = cv2.VideoCapture(0)\n",
    "dims = get_dims(cap, res = my_res)\n",
    "\n",
    "# Define the codec and create VideoWriter object.The output is stored in 'outpy.avi' file.\n",
    "# Define the fps to be equal to 30. Also frame size is passed.\n",
    "#frame_width = int(cap.get(3))\n",
    "#frame_height = int(cap.get(4))\n",
    "\n"
   ]
  },
  {
   "cell_type": "code",
   "execution_count": null,
   "id": "17825836",
   "metadata": {},
   "outputs": [],
   "source": []
  },
  {
   "cell_type": "code",
   "execution_count": 7,
   "id": "c4aeb8d7",
   "metadata": {},
   "outputs": [
    {
     "name": "stdout",
     "output_type": "stream",
     "text": [
      "Collecting Video for nothing\n"
     ]
    }
   ],
   "source": [
    "for label in labels:\n",
    "    \n",
    "    if(flag== False):\n",
    "        break\n",
    "        \n",
    "    # Define the codec and create VideoWriter object.The output is stored in 'outpy.avi' file.\n",
    "    # Define the fps to be equal to 30. Also frame size is passed.\n",
    "    frame_width = 200\n",
    "    frame_height = 200\n",
    "    #print(frame_width, frame_height) \n",
    "    out = cv2.VideoWriter('%s_%s.avi'%(user,label),cv2.VideoWriter_fourcc('M','J','P','G'), 30, (frame_width,frame_height))\n",
    "    \n",
    "    print('Collecting Video for {}'.format(label))\n",
    "    #time.sleep(30)\n",
    "    \n",
    "       \n",
    "    while(True):\n",
    "        \n",
    "        \n",
    "        # Capture frame-by-frame\n",
    "        ret, frame = cap.read()\n",
    "        \n",
    "        #flipping the frame\n",
    "        \n",
    "        cv2.rectangle(frame, (ROI_left, ROI_top), (ROI_right, ROI_bottom), (255,0,0), 2)\n",
    "        crop_frame = frame[ROI_top:ROI_bottom, ROI_right:ROI_left]\n",
    "        \n",
    "        \n",
    "        cv2.imshow('crop_frame',crop_frame)\n",
    "        \n",
    "        crop_frame = cv2.resize(crop_frame, (200, 200))\n",
    "        \n",
    "        #record video\n",
    "        out.write(crop_frame)\n",
    "\n",
    "        frame = cv2.flip(frame, 1)\n",
    "        image = cv2.putText(frame, '%s'%label, (50,50), cv2.FONT_HERSHEY_SIMPLEX, 1, (0, 0, 255), 2, cv2.LINE_AA)\n",
    "        cv2.imshow('frame',frame)\n",
    "\n",
    "        # Check if x was pressed\n",
    "        if keyboard.is_pressed('x'):\n",
    "            print('x Key was pressed')\n",
    "            out.release\n",
    "            \n",
    "            \n",
    "        # Check if r was pressed\n",
    "        if cv2.waitKey(1) & 0xFF == ord('r'):\n",
    "            print('r Key was pressed')\n",
    "            break\n",
    "        \n",
    "        if cv2.waitKey(1) & 0xFF == ord('q'):\n",
    "            flag = False\n",
    "            break\n",
    "            \n",
    "            \n",
    "\n",
    "cap.release()\n",
    "out.release()\n",
    "cv2.destroyAllWindows()\n",
    "    \n",
    "\n"
   ]
  },
  {
   "cell_type": "raw",
   "id": "eca5929d",
   "metadata": {},
   "source": []
  }
 ],
 "metadata": {
  "kernelspec": {
   "display_name": "Python 3",
   "language": "python",
   "name": "python3"
  },
  "language_info": {
   "codemirror_mode": {
    "name": "ipython",
    "version": 3
   },
   "file_extension": ".py",
   "mimetype": "text/x-python",
   "name": "python",
   "nbconvert_exporter": "python",
   "pygments_lexer": "ipython3",
   "version": "3.8.8"
  }
 },
 "nbformat": 4,
 "nbformat_minor": 5
}
