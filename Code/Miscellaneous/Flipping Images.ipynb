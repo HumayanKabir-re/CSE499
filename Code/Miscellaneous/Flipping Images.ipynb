{
 "cells": [
  {
   "cell_type": "code",
   "execution_count": 1,
   "id": "e8ebc0a1",
   "metadata": {},
   "outputs": [],
   "source": [
    "from PIL import Image, ImageOps\n",
    "import glob\n",
    "import natsort"
   ]
  },
  {
   "cell_type": "code",
   "execution_count": 2,
   "id": "69acb146",
   "metadata": {},
   "outputs": [],
   "source": [
    "unflipped_list = []\n",
    "flipped_list = []"
   ]
  },
  {
   "cell_type": "code",
   "execution_count": 3,
   "id": "25aa382a",
   "metadata": {},
   "outputs": [],
   "source": [
    "for filename in (glob.glob(r'C:\\Users\\humay\\Desktop\\Test\\*\\*.jpg')):\n",
    "    #print(filename)\n",
    "    img = Image.open(filename)\n",
    "    unflipped_list.append(img)\n",
    "    #img.show()\n"
   ]
  },
  {
   "cell_type": "code",
   "execution_count": 4,
   "id": "26a0206f",
   "metadata": {},
   "outputs": [],
   "source": [
    "for image in unflipped_list:\n",
    "    image = image.transpose(Image.FLIP_LEFT_RIGHT)\n",
    "    image = image.rotate(270)\n",
    "    flipped_list.append(image)"
   ]
  },
  {
   "cell_type": "code",
   "execution_count": 5,
   "id": "3cd08314",
   "metadata": {},
   "outputs": [],
   "source": [
    "for (i, new) in enumerate(flipped_list):\n",
    "    new.save('{}{}{}'.format(r'C:\\Users\\humay\\Desktop\\Test\\flipped\\Flipped' , i+1, '.jpg'))\n",
    "    #new.save()"
   ]
  },
  {
   "cell_type": "code",
   "execution_count": 6,
   "id": "08ae57e7",
   "metadata": {},
   "outputs": [],
   "source": [
    "unflipped_list.clear()\n",
    "flipped_list.clear()"
   ]
  },
  {
   "cell_type": "code",
   "execution_count": null,
   "id": "4a5dccf6",
   "metadata": {},
   "outputs": [],
   "source": []
  }
 ],
 "metadata": {
  "kernelspec": {
   "display_name": "Python 3",
   "language": "python",
   "name": "python3"
  },
  "language_info": {
   "codemirror_mode": {
    "name": "ipython",
    "version": 3
   },
   "file_extension": ".py",
   "mimetype": "text/x-python",
   "name": "python",
   "nbconvert_exporter": "python",
   "pygments_lexer": "ipython3",
   "version": "3.8.8"
  }
 },
 "nbformat": 4,
 "nbformat_minor": 5
}
