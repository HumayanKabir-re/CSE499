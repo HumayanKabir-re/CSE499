{
 "cells": [
  {
   "cell_type": "code",
   "execution_count": 1,
   "metadata": {},
   "outputs": [],
   "source": [
    "import torch\n",
    "import torch.nn as nn\n",
    "import torch.nn.functional as F\n",
    "import torchvision\n",
    "import os"
   ]
  },
  {
   "cell_type": "code",
   "execution_count": 2,
   "metadata": {},
   "outputs": [],
   "source": [
    "class ASLModel(nn.Module):\n",
    "    def __init__(self):\n",
    "        super().__init__()\n",
    "        self.network = nn.Sequential(\n",
    "            \n",
    "            nn.Conv2d(3, 64, kernel_size=3, padding=1),\n",
    "            nn.ReLU(),\n",
    "            \n",
    "            nn.Conv2d(64, 128, kernel_size=3, stride=1, padding=1),\n",
    "            nn.ReLU(),\n",
    "            nn.MaxPool2d(2, 2), # output: 128 x 32 x 32\n",
    "            \n",
    "            nn.Conv2d(128, 256, kernel_size=2, stride=2, padding=0),\n",
    "            nn.ReLU(),\n",
    "            nn.Dropout(0.25),  # output: 128 x 16 x 16\n",
    "            \n",
    "            nn.Conv2d(256, 128, kernel_size=1, stride=1, padding=0),\n",
    "        \n",
    "            nn.Conv2d(128, 256, kernel_size=3, stride=1, padding=1),\n",
    "            nn.ReLU(),\n",
    "            nn.MaxPool2d(2, 2), # output: 256 x 8 x 8\n",
    "            \n",
    "            \n",
    "            nn.Conv2d(256, 512, kernel_size=3, stride=1, padding=1),\n",
    "            nn.ReLU(),\n",
    "            \n",
    "            nn.Conv2d(512, 1024, kernel_size=3, stride=1, padding=1),\n",
    "            nn.ReLU(),\n",
    "            \n",
    "            nn.MaxPool2d(2, 2), # output: 1024 x 4 x 4\n",
    "            \n",
    "            nn.Flatten(), \n",
    "            nn.Linear(1024*4*4, 1024), # (1024*4*4, 1024)\n",
    "            nn.ReLU(),\n",
    "            nn.Linear(1024, 512),\n",
    "            nn.ReLU(),\n",
    "            nn.Linear(512, 29))\n",
    "        \n",
    "    def forward(self, xb):\n",
    "        return self.network(xb)"
   ]
  },
  {
   "cell_type": "code",
   "execution_count": 3,
   "metadata": {},
   "outputs": [
    {
     "data": {
      "text/plain": [
       "<All keys matched successfully>"
      ]
     },
     "execution_count": 3,
     "metadata": {},
     "output_type": "execute_result"
    }
   ],
   "source": [
    "model = ASLModel()\n",
    "model.load_state_dict(torch.load(r\"C:\\Give directory here\", map_location=torch.device('cpu')))"
   ]
  },
  {
   "cell_type": "code",
   "execution_count": 4,
   "metadata": {},
   "outputs": [],
   "source": [
    "import numpy as np\n",
    "import cv2\n",
    "#import tensorflow as tf\n",
    "#mport keras\n",
    "\n",
    "word_dict = {0:'A', 1:'B', 2:'C', 3:'D', 4:'E', 5:'F', 6:'G', 7:'H', 8:'I', 9:'J', 10:'K', 11:'L', 12:'M', 13:'N', 14:'O', 15:'P', 16:'Q', 17:'R', 18:'S', 19:'T', 20:'U', 21:'V', 22:'W', 23:'X', 24:'Y', 25:'Z', 26:'del', 27:'nothing', 28:'space'}\n"
   ]
  },
  {
   "cell_type": "code",
   "execution_count": 5,
   "metadata": {},
   "outputs": [],
   "source": [
    "def predict(input, model):\n",
    "    predictions = model(input)\n",
    "    _, preds = torch.max(predictions, dim=1)\n",
    "    \n",
    "    #print(\"Prediction:\", preds)\n",
    "    return (preds[0])"
   ]
  },
  {
   "cell_type": "code",
   "execution_count": null,
   "metadata": {},
   "outputs": [],
   "source": [
    "# Using cv2.rectangle() method\n",
    "# Draw a rectangle with blue line borders of thickness of 2 px\n",
    "#image = cv2.rectangle(image, start_point, end_point, color, thickness)\n",
    "\n",
    "# Start coordinate, here (ROI_left, ROI_top)\n",
    "# represents the top left corner of rectangle\n",
    "\n",
    "# Ending coordinate, here (ROI-right, ROI_bottom)\n",
    "# represents the bottom right corner of rectangle\n",
    "\n",
    "ROI_top = 100\n",
    "ROI_bottom = 300\n",
    "ROI_right = 150\n",
    "ROI_left = 350\n",
    "\n",
    "cap = cv2.VideoCapture(0)\n",
    "#cap.set(3, 1280)\n",
    "#cap.set(4, 720)\n",
    "num_frames = 0\n",
    "\n",
    "while(True):\n",
    "    # Capture frame-by-frame\n",
    "    ret, frame = cap.read()\n",
    "    \n",
    "    \n",
    "    # Our operations on the frame come here\n",
    "    \n",
    "    #flipping the frame\n",
    "    #frame = cv2.flip(frame, 1)\n",
    "    \n",
    "    frame_copy = frame.copy()\n",
    "    \n",
    "    # Draw ROI on frame_copy\n",
    "    cv2.rectangle(frame_copy, (ROI_left, ROI_top), (ROI_right, ROI_bottom), (255,0,0), 2)    \n",
    "    crop_frame = frame_copy[ROI_top:ROI_bottom, ROI_right:ROI_left]\n",
    "    \n",
    "    crop_frame = cv2.resize(crop_frame, (64, 64))          \n",
    "    \n",
    "    \n",
    "    #NORMALIZING     \n",
    "    MEAN = 255 * torch.tensor([0.5, 0.5, 0.5])\n",
    "    STD = 255 * torch.tensor([0.5, 0.5, 0.5])\n",
    "    #converting to tensor from np_ndarray\n",
    "    x = torch.from_numpy(crop_frame)\n",
    "    #converting to float32\n",
    "    x = x.type(torch.float32)\n",
    "    x = x.permute(-1, 0, 1)\n",
    "    x = (x - MEAN[:, None, None]) / STD[:, None, None]\n",
    "    \n",
    "    #print(x.view(1, 3, 32, 32))    \n",
    "    \n",
    "    #first dimension of tensor = batchsize, second = colour, third = height, fourth = widt\n",
    "                    \n",
    "    pred = predict(x.view(1, 3, 64, 64), model)\n",
    "    \n",
    "    \n",
    "    cv2.putText(frame_copy, word_dict[pred.item()], (170, 45), cv2.FONT_HERSHEY_SIMPLEX, 1, (0,0,255), 2)\n",
    "       \n",
    "    \n",
    "    \n",
    "    # Display the frame with segmented hand\n",
    "    cv2.putText(frame_copy, \"Place handsign in region of interest...\", (10, 20), cv2.FONT_ITALIC, 0.5, (51,255,51), 1)\n",
    "    cv2.imshow(\"Sign Recognition\", frame_copy)\n",
    "    \n",
    "    # incrementing the number of frames for tracking\n",
    "    num_frames += 1\n",
    "    \n",
    "    if cv2.waitKey(1) & 0xFF == ord('q'):\n",
    "        break\n",
    "\n",
    "# When everything done, release the capture\n",
    "cap.release()\n",
    "cv2.destroyAllWindows()\n"
   ]
  },
  {
   "cell_type": "code",
   "execution_count": null,
   "metadata": {},
   "outputs": [],
   "source": []
  },
  {
   "cell_type": "code",
   "execution_count": null,
   "metadata": {},
   "outputs": [],
   "source": []
  }
 ],
 "metadata": {
  "kernelspec": {
   "display_name": "Python 3",
   "language": "python",
   "name": "python3"
  },
  "language_info": {
   "codemirror_mode": {
    "name": "ipython",
    "version": 3
   },
   "file_extension": ".py",
   "mimetype": "text/x-python",
   "name": "python",
   "nbconvert_exporter": "python",
   "pygments_lexer": "ipython3",
   "version": "3.8.5"
  }
 },
 "nbformat": 4,
 "nbformat_minor": 4
}
